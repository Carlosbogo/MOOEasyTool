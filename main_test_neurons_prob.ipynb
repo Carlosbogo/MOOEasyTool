{
 "cells": [
  {
   "cell_type": "markdown",
   "metadata": {},
   "source": [
    "# Main Notebook\n",
    "\n",
    "File to perform experiments"
   ]
  },
  {
   "cell_type": "markdown",
   "metadata": {},
   "source": [
    "## Imports"
   ]
  },
  {
   "cell_type": "code",
   "execution_count": 1,
   "metadata": {},
   "outputs": [
    {
     "name": "stderr",
     "output_type": "stream",
     "text": [
      "2023-06-12 17:18:07.192568: I tensorflow/tsl/cuda/cudart_stub.cc:28] Could not find cuda drivers on your machine, GPU will not be used.\n",
      "2023-06-12 17:18:07.233000: I tensorflow/tsl/cuda/cudart_stub.cc:28] Could not find cuda drivers on your machine, GPU will not be used.\n",
      "2023-06-12 17:18:07.233416: I tensorflow/core/platform/cpu_feature_guard.cc:182] This TensorFlow binary is optimized to use available CPU instructions in performance-critical operations.\n",
      "To enable the following instructions: AVX2 FMA, in other operations, rebuild TensorFlow with the appropriate compiler flags.\n",
      "2023-06-12 17:18:07.815071: W tensorflow/compiler/tf2tensorrt/utils/py_utils.cc:38] TF-TRT Warning: Could not find TensorRT\n"
     ]
    }
   ],
   "source": [
    "import os\n",
    "import numpy as np\n",
    "import gpflow\n",
    "import matplotlib.pyplot as plt\n",
    "import pandas as pd\n",
    "import time\n",
    "from tqdm import tqdm\n",
    "import tensorflow as tf\n",
    "\n",
    "from models.GaussianProcess import GaussianProcess\n",
    "from acquisition_functions.UseMO import usemo_acq\n",
    "from acquisition_functions.MES import mes_acq, basic_mes_acq\n",
    "from acquisition_functions.PESMO import pesmo_acq\n",
    "from acquisition_functions.MESMO import mesmo_acq\n",
    "from arguments.arguments import MainArguments\n",
    "\n",
    "from MOObenchmark import MOOackley, MOOexponential, MOOquadratic_ackley, MOOnnHeartNeuronsProb\n",
    "from utils.calc_pareto import get_pareto_undominated_by, getSetfromFront\n",
    "\n",
    "from models.MOOEvaluationProblem import MOOEvaluationProblem\n",
    "\n",
    "from pymoo.algorithms.moo.nsga2 import NSGA2\n",
    "from pymoo.factory import get_termination\n",
    "from pymoo.optimize import minimize"
   ]
  },
  {
   "cell_type": "markdown",
   "metadata": {},
   "source": [
    "## Algorithm Arguments"
   ]
  },
  {
   "cell_type": "code",
   "execution_count": 2,
   "metadata": {
    "collapsed": true
   },
   "outputs": [],
   "source": [
    "d = 5 # input dimensions\n",
    "    \n",
    "seed = 0\n",
    "np.random.seed(seed)\n",
    "\n",
    "## iterations of the main algorithm\n",
    "total_iter = 40\n",
    "## iterations taken randomly at the beggining\n",
    "initial_iter = 1\n",
    "\n",
    "## bound of the inputs definition\n",
    "### with the current implementations all the input dimensions must have the same bounds, \n",
    "### but this can be changed\n",
    "lower_bound = 10\n",
    "upper_bound = 1000\n",
    "\n",
    "lowerBounds = [lower_bound]*d\n",
    "upperBounds = [upper_bound]*d\n"
   ]
  },
  {
   "cell_type": "markdown",
   "metadata": {},
   "source": [
    "## Evaluation"
   ]
  },
  {
   "cell_type": "code",
   "execution_count": 3,
   "metadata": {
    "collapsed": true
   },
   "outputs": [],
   "source": [
    "## Evaluation function definition\n",
    "O = 2\n",
    "C = 0\n",
    "\n",
    "def evaluation(x):\n",
    "    return MOOnnHeartNeuronsProb(x)"
   ]
  },
  {
   "cell_type": "markdown",
   "metadata": {},
   "source": [
    "This cell below gets the real pareto in two ways: with a grid and with a cheap optimizer (genetic algorithm) and plots both of them. These results are used in test problems as the actual pareto front. Although, to obtain these paretos many evaluations of the function are needed, so it has no sense running it in a costly black box problem.\n",
    "\n",
    "In addition this is only prepared to plot a d=1, O=2 problem. We could visualize any problem, but the visualization get a lot more abstract and more plots are needed. If this is interesting I could do it.\n",
    "\n",
    "Therefore I set the code below as text."
   ]
  },
  {
   "cell_type": "markdown",
   "metadata": {},
   "source": [
    "N = 1_001\n",
    "X = np.linspace(lower_bound,upper_bound,N)\n",
    "Z = np.zeros((N,2))\n",
    "\n",
    "problem = MOOEvaluationProblem(evaluation, O=O, d=d, lowerBounds=lower_bound, upperBounds=upper_bound)\n",
    "algorithm = NSGA2()\n",
    "res = minimize( problem, \n",
    "                algorithm,\n",
    "                termination = get_termination(\"n_gen\",100))\n",
    "\n",
    "real_pareto = res.F[np.argsort(res.F[:,0])]\n",
    "\n",
    "for i in range(N):\n",
    "    Z[i]=evaluation(X[i])\n",
    "\n",
    "fig, axs = plt.subplots(1,3, figsize=(15,4))\n",
    "\n",
    "axs[0].plot(X, Z[:,0], 'b')\n",
    "axs[0].plot(X, Z[:,1], 'k')\n",
    "axs[0].plot(res.X, res.F[:,0], 'xr', markersize=5)\n",
    "axs[0].plot(res.X, res.F[:,1], 'xr', markersize=5)\n",
    "\n",
    "axs[1].plot(np.reshape(Z,(-1,2))[:,0], np.reshape(Z,(-1,2))[:,1], 'kx')\n",
    "axs[1].plot(res.F[:,0], res.F[:,1], 'rx')\n",
    "res\n",
    "axs[2].plot(res.F[:,0], res.F[:,1], 'x')\n",
    "plt.show()"
   ]
  },
  {
   "cell_type": "code",
   "execution_count": 4,
   "metadata": {
    "collapsed": true
   },
   "outputs": [],
   "source": [
    "def random_acq(GP: GaussianProcess, **kwargs):\n",
    "    while True:\n",
    "        x_rand = np.random.uniform(GP.lowerBounds, GP.upperBounds, GP.d)\n",
    "        if GP.X is None or not x_rand in GP.X:\n",
    "            break\n",
    "    return x_rand"
   ]
  },
  {
   "cell_type": "markdown",
   "metadata": {},
   "source": [
    "## N experiments"
   ]
  },
  {
   "cell_type": "code",
   "execution_count": 13,
   "metadata": {
    "scrolled": true
   },
   "outputs": [
    {
     "name": "stdout",
     "output_type": "stream",
     "text": [
      "C = [206.18374515 403.96027025 503.46124155 950.24729175 503.67085992]\n",
      "Epoch 1/6\n",
      "1210/1210 [==============================] - 7s 4ms/step - loss: 0.5420 - val_loss: 0.5451\n",
      "Epoch 2/6\n",
      "1210/1210 [==============================] - 2s 2ms/step - loss: 0.5152 - val_loss: 0.5079\n",
      "Epoch 3/6\n",
      "1210/1210 [==============================] - 2s 2ms/step - loss: 0.5121 - val_loss: 0.5015\n",
      "Epoch 4/6\n",
      "1210/1210 [==============================] - 2s 2ms/step - loss: 0.5086 - val_loss: 0.4957\n",
      "Epoch 5/6\n",
      "1210/1210 [==============================] - 2s 2ms/step - loss: 0.5091 - val_loss: 0.5022\n",
      "Epoch 6/6\n",
      "1210/1210 [==============================] - 2s 2ms/step - loss: 0.5087 - val_loss: 0.5130\n",
      "135/135 [==============================] - 0s 690us/step\n",
      "[[206.18374515 403.96027025 503.46124155 950.24729175 503.67085992]]\n",
      "C = [749.21576767 258.2623585  826.98517695 217.01474133 653.3392806 ]\n",
      "Epoch 1/6\n",
      "1210/1210 [==============================] - 6s 4ms/step - loss: 0.5543 - val_loss: 0.5033\n",
      "Epoch 2/6\n",
      "1210/1210 [==============================] - 5s 4ms/step - loss: 0.5192 - val_loss: 0.5046\n",
      "Epoch 3/6\n",
      "1210/1210 [==============================] - 3s 3ms/step - loss: 0.5168 - val_loss: 0.5130\n",
      "Epoch 4/6\n",
      "1210/1210 [==============================] - 4s 3ms/step - loss: 0.5090 - val_loss: 0.5047\n",
      "Epoch 5/6\n",
      "1210/1210 [==============================] - 4s 3ms/step - loss: 0.5094 - val_loss: 0.5051\n",
      "Epoch 6/6\n",
      "1210/1210 [==============================] - 4s 3ms/step - loss: 0.5086 - val_loss: 0.5095\n",
      "135/135 [==============================] - 0s 2ms/step\n",
      "Current x =  [[206.18374515 403.96027025 503.46124155 950.24729175 503.67085992]]\n",
      "New x =  [749.21576767 258.2623585  826.98517695 217.01474133 653.3392806 ]\n",
      "Iteration= 0  x_best= [749.21576767 258.2623585  826.98517695 217.01474133 653.3392806 ] y= (-0.7383259911894273, -0.7791724779172478)\n"
     ]
    },
    {
     "data": {
      "image/png": "[encoded data removed]",
      "text/plain": [
       "<Figure size 640x480 with 10 Axes>"
      ]
     },
     "metadata": {},
     "output_type": "display_data"
    },
    {
     "name": "stdout",
     "output_type": "stream",
     "text": [
      "C = [522.73688152 819.31425318 728.76246734 664.69757427 675.27557698]\n",
      "Epoch 1/6\n",
      " 383/1210 [========>.....................] - ETA: 4s - loss: 0.6479"
     ]
    },
    {
     "ename": "KeyboardInterrupt",
     "evalue": "",
     "output_type": "error",
     "traceback": [
      "\u001b[0;31m---------------------------------------------------------------------------\u001b[0m",
      "\u001b[0;31mKeyboardInterrupt\u001b[0m                         Traceback (most recent call last)",
      "Cell \u001b[0;32mIn[13], line 34\u001b[0m\n\u001b[1;32m     31\u001b[0m x_best, acq_best \u001b[38;5;241m=\u001b[39m usemo_acq(GP, function \u001b[38;5;241m=\u001b[39m \u001b[38;5;124m\"\u001b[39m\u001b[38;5;124mei\u001b[39m\u001b[38;5;124m\"\u001b[39m, showplots \u001b[38;5;241m=\u001b[39m \u001b[38;5;28;01mFalse\u001b[39;00m)\n\u001b[1;32m     33\u001b[0m \u001b[38;5;66;03m## EVALUATION OF THE OUTSIDE FUNCTION\u001b[39;00m\n\u001b[0;32m---> 34\u001b[0m y_best \u001b[38;5;241m=\u001b[39m \u001b[43mevaluation\u001b[49m\u001b[43m(\u001b[49m\u001b[43mx_best\u001b[49m\u001b[43m)\u001b[49m\n\u001b[1;32m     36\u001b[0m \u001b[38;5;66;03m## UPDATE\u001b[39;00m\n\u001b[1;32m     37\u001b[0m GP\u001b[38;5;241m.\u001b[39maddSample(x_best,y_best)     \u001b[38;5;66;03m## Add new sample to the model\u001b[39;00m\n",
      "Cell \u001b[0;32mIn[3], line 6\u001b[0m, in \u001b[0;36mevaluation\u001b[0;34m(x)\u001b[0m\n\u001b[1;32m      5\u001b[0m \u001b[38;5;28;01mdef\u001b[39;00m \u001b[38;5;21mevaluation\u001b[39m(x):\n\u001b[0;32m----> 6\u001b[0m     \u001b[38;5;28;01mreturn\u001b[39;00m \u001b[43mMOOnnHeartNeuronsProb\u001b[49m\u001b[43m(\u001b[49m\u001b[43mx\u001b[49m\u001b[43m)\u001b[49m\n",
      "File \u001b[0;32m~/MOOEasyTool/MOObenchmark.py:46\u001b[0m, in \u001b[0;36mMOOnnHeartNeuronsProb\u001b[0;34m(C)\u001b[0m\n\u001b[1;32m     43\u001b[0m \u001b[38;5;28;01mdef\u001b[39;00m \u001b[38;5;21mMOOnnHeartNeurons\u001b[39m(C):\n\u001b[1;32m     44\u001b[0m     \u001b[38;5;28;01mreturn\u001b[39;00m fit_nn_heart_neurons(C)\n\u001b[0;32m---> 46\u001b[0m \u001b[38;5;28;01mdef\u001b[39;00m \u001b[38;5;21mMOOnnHeartNeuronsProb\u001b[39m(C):\n\u001b[1;32m     47\u001b[0m     \u001b[38;5;28;01mreturn\u001b[39;00m fit_nn_heart_neurons_prob(C)\n\u001b[1;32m     49\u001b[0m \u001b[38;5;28;01mdef\u001b[39;00m \u001b[38;5;21mMOOnnHeartLogReg\u001b[39m(C):\n",
      "File \u001b[0;32m~/MOOEasyTool/benchmarkFunctions/NNHeartNeuronsProb.py:57\u001b[0m, in \u001b[0;36mfit_nn_heart_neurons_prob\u001b[0;34m(c)\u001b[0m\n\u001b[1;32m     51\u001b[0m model\u001b[38;5;241m.\u001b[39mcompile(\n\u001b[1;32m     52\u001b[0m         optimizer\u001b[38;5;241m=\u001b[39mtf\u001b[38;5;241m.\u001b[39mkeras\u001b[38;5;241m.\u001b[39moptimizers\u001b[38;5;241m.\u001b[39mAdam(c[\u001b[38;5;241m4\u001b[39m]\u001b[38;5;241m/\u001b[39m\u001b[38;5;241m100000\u001b[39m),\n\u001b[1;32m     53\u001b[0m         loss\u001b[38;5;241m=\u001b[39mtf\u001b[38;5;241m.\u001b[39mkeras\u001b[38;5;241m.\u001b[39mlosses\u001b[38;5;241m.\u001b[39mBinaryCrossentropy(from_logits\u001b[38;5;241m=\u001b[39m\u001b[38;5;28;01mFalse\u001b[39;00m),\n\u001b[1;32m     54\u001b[0m     )\n\u001b[1;32m     56\u001b[0m \u001b[38;5;28;01mwith\u001b[39;00m tf\u001b[38;5;241m.\u001b[39mdevice(\u001b[38;5;124m\"\u001b[39m\u001b[38;5;124m/GPU:1\u001b[39m\u001b[38;5;124m\"\u001b[39m):\n\u001b[0;32m---> 57\u001b[0m     \u001b[43mmodel\u001b[49m\u001b[38;5;241;43m.\u001b[39;49m\u001b[43mfit\u001b[49m\u001b[43m(\u001b[49m\n\u001b[1;32m     58\u001b[0m \u001b[43m            \u001b[49m\u001b[43mX_train\u001b[49m\u001b[43m,\u001b[49m\n\u001b[1;32m     59\u001b[0m \u001b[43m            \u001b[49m\u001b[43my_train\u001b[49m\u001b[43m,\u001b[49m\n\u001b[1;32m     60\u001b[0m \u001b[43m            \u001b[49m\u001b[43mepochs\u001b[49m\u001b[38;5;241;43m=\u001b[39;49m\u001b[38;5;241;43m6\u001b[39;49m\u001b[43m,\u001b[49m\n\u001b[1;32m     61\u001b[0m \u001b[43m            \u001b[49m\u001b[43mvalidation_data\u001b[49m\u001b[38;5;241;43m=\u001b[39;49m\u001b[43m(\u001b[49m\u001b[43mX_val\u001b[49m\u001b[43m,\u001b[49m\u001b[43m \u001b[49m\u001b[43my_val\u001b[49m\u001b[43m)\u001b[49m\n\u001b[1;32m     62\u001b[0m \u001b[43m        \u001b[49m\u001b[43m)\u001b[49m\n\u001b[1;32m     64\u001b[0m \u001b[38;5;66;03m#model.save_weights(checkpoint_path)\u001b[39;00m\n\u001b[1;32m     67\u001b[0m y_pred_val \u001b[38;5;241m=\u001b[39m np\u001b[38;5;241m.\u001b[39maround(model\u001b[38;5;241m.\u001b[39mpredict(X_val))\n",
      "File \u001b[0;32m~/.conda/envs/MOOenv/lib/python3.9/site-packages/keras/utils/traceback_utils.py:65\u001b[0m, in \u001b[0;36mfilter_traceback.<locals>.error_handler\u001b[0;34m(*args, **kwargs)\u001b[0m\n\u001b[1;32m     63\u001b[0m filtered_tb \u001b[38;5;241m=\u001b[39m \u001b[38;5;28;01mNone\u001b[39;00m\n\u001b[1;32m     64\u001b[0m \u001b[38;5;28;01mtry\u001b[39;00m:\n\u001b[0;32m---> 65\u001b[0m     \u001b[38;5;28;01mreturn\u001b[39;00m \u001b[43mfn\u001b[49m\u001b[43m(\u001b[49m\u001b[38;5;241;43m*\u001b[39;49m\u001b[43margs\u001b[49m\u001b[43m,\u001b[49m\u001b[43m \u001b[49m\u001b[38;5;241;43m*\u001b[39;49m\u001b[38;5;241;43m*\u001b[39;49m\u001b[43mkwargs\u001b[49m\u001b[43m)\u001b[49m\n\u001b[1;32m     66\u001b[0m \u001b[38;5;28;01mexcept\u001b[39;00m \u001b[38;5;167;01mException\u001b[39;00m \u001b[38;5;28;01mas\u001b[39;00m e:\n\u001b[1;32m     67\u001b[0m     filtered_tb \u001b[38;5;241m=\u001b[39m _process_traceback_frames(e\u001b[38;5;241m.\u001b[39m__traceback__)\n",
      "File \u001b[0;32m~/.conda/envs/MOOenv/lib/python3.9/site-packages/keras/engine/training.py:1685\u001b[0m, in \u001b[0;36mModel.fit\u001b[0;34m(self, x, y, batch_size, epochs, verbose, callbacks, validation_split, validation_data, shuffle, class_weight, sample_weight, initial_epoch, steps_per_epoch, validation_steps, validation_batch_size, validation_freq, max_queue_size, workers, use_multiprocessing)\u001b[0m\n\u001b[1;32m   1677\u001b[0m \u001b[38;5;28;01mwith\u001b[39;00m tf\u001b[38;5;241m.\u001b[39mprofiler\u001b[38;5;241m.\u001b[39mexperimental\u001b[38;5;241m.\u001b[39mTrace(\n\u001b[1;32m   1678\u001b[0m     \u001b[38;5;124m\"\u001b[39m\u001b[38;5;124mtrain\u001b[39m\u001b[38;5;124m\"\u001b[39m,\n\u001b[1;32m   1679\u001b[0m     epoch_num\u001b[38;5;241m=\u001b[39mepoch,\n\u001b[0;32m   (...)\u001b[0m\n\u001b[1;32m   1682\u001b[0m     _r\u001b[38;5;241m=\u001b[39m\u001b[38;5;241m1\u001b[39m,\n\u001b[1;32m   1683\u001b[0m ):\n\u001b[1;32m   1684\u001b[0m     callbacks\u001b[38;5;241m.\u001b[39mon_train_batch_begin(step)\n\u001b[0;32m-> 1685\u001b[0m     tmp_logs \u001b[38;5;241m=\u001b[39m \u001b[38;5;28;43mself\u001b[39;49m\u001b[38;5;241;43m.\u001b[39;49m\u001b[43mtrain_function\u001b[49m\u001b[43m(\u001b[49m\u001b[43miterator\u001b[49m\u001b[43m)\u001b[49m\n\u001b[1;32m   1686\u001b[0m     \u001b[38;5;28;01mif\u001b[39;00m data_handler\u001b[38;5;241m.\u001b[39mshould_sync:\n\u001b[1;32m   1687\u001b[0m         context\u001b[38;5;241m.\u001b[39masync_wait()\n",
      "File \u001b[0;32m~/.conda/envs/MOOenv/lib/python3.9/site-packages/tensorflow/python/util/traceback_utils.py:150\u001b[0m, in \u001b[0;36mfilter_traceback.<locals>.error_handler\u001b[0;34m(*args, **kwargs)\u001b[0m\n\u001b[1;32m    148\u001b[0m filtered_tb \u001b[38;5;241m=\u001b[39m \u001b[38;5;28;01mNone\u001b[39;00m\n\u001b[1;32m    149\u001b[0m \u001b[38;5;28;01mtry\u001b[39;00m:\n\u001b[0;32m--> 150\u001b[0m   \u001b[38;5;28;01mreturn\u001b[39;00m \u001b[43mfn\u001b[49m\u001b[43m(\u001b[49m\u001b[38;5;241;43m*\u001b[39;49m\u001b[43margs\u001b[49m\u001b[43m,\u001b[49m\u001b[43m \u001b[49m\u001b[38;5;241;43m*\u001b[39;49m\u001b[38;5;241;43m*\u001b[39;49m\u001b[43mkwargs\u001b[49m\u001b[43m)\u001b[49m\n\u001b[1;32m    151\u001b[0m \u001b[38;5;28;01mexcept\u001b[39;00m \u001b[38;5;167;01mException\u001b[39;00m \u001b[38;5;28;01mas\u001b[39;00m e:\n\u001b[1;32m    152\u001b[0m   filtered_tb \u001b[38;5;241m=\u001b[39m _process_traceback_frames(e\u001b[38;5;241m.\u001b[39m__traceback__)\n",
      "File \u001b[0;32m~/.conda/envs/MOOenv/lib/python3.9/site-packages/tensorflow/python/eager/polymorphic_function/polymorphic_function.py:894\u001b[0m, in \u001b[0;36mFunction.__call__\u001b[0;34m(self, *args, **kwds)\u001b[0m\n\u001b[1;32m    891\u001b[0m compiler \u001b[38;5;241m=\u001b[39m \u001b[38;5;124m\"\u001b[39m\u001b[38;5;124mxla\u001b[39m\u001b[38;5;124m\"\u001b[39m \u001b[38;5;28;01mif\u001b[39;00m \u001b[38;5;28mself\u001b[39m\u001b[38;5;241m.\u001b[39m_jit_compile \u001b[38;5;28;01melse\u001b[39;00m \u001b[38;5;124m\"\u001b[39m\u001b[38;5;124mnonXla\u001b[39m\u001b[38;5;124m\"\u001b[39m\n\u001b[1;32m    893\u001b[0m \u001b[38;5;28;01mwith\u001b[39;00m OptionalXlaContext(\u001b[38;5;28mself\u001b[39m\u001b[38;5;241m.\u001b[39m_jit_compile):\n\u001b[0;32m--> 894\u001b[0m   result \u001b[38;5;241m=\u001b[39m \u001b[38;5;28;43mself\u001b[39;49m\u001b[38;5;241;43m.\u001b[39;49m\u001b[43m_call\u001b[49m\u001b[43m(\u001b[49m\u001b[38;5;241;43m*\u001b[39;49m\u001b[43margs\u001b[49m\u001b[43m,\u001b[49m\u001b[43m \u001b[49m\u001b[38;5;241;43m*\u001b[39;49m\u001b[38;5;241;43m*\u001b[39;49m\u001b[43mkwds\u001b[49m\u001b[43m)\u001b[49m\n\u001b[1;32m    896\u001b[0m new_tracing_count \u001b[38;5;241m=\u001b[39m \u001b[38;5;28mself\u001b[39m\u001b[38;5;241m.\u001b[39mexperimental_get_tracing_count()\n\u001b[1;32m    897\u001b[0m without_tracing \u001b[38;5;241m=\u001b[39m (tracing_count \u001b[38;5;241m==\u001b[39m new_tracing_count)\n",
      "File \u001b[0;32m~/.conda/envs/MOOenv/lib/python3.9/site-packages/tensorflow/python/eager/polymorphic_function/polymorphic_function.py:926\u001b[0m, in \u001b[0;36mFunction._call\u001b[0;34m(self, *args, **kwds)\u001b[0m\n\u001b[1;32m    923\u001b[0m   \u001b[38;5;28mself\u001b[39m\u001b[38;5;241m.\u001b[39m_lock\u001b[38;5;241m.\u001b[39mrelease()\n\u001b[1;32m    924\u001b[0m   \u001b[38;5;66;03m# In this case we have created variables on the first call, so we run the\u001b[39;00m\n\u001b[1;32m    925\u001b[0m   \u001b[38;5;66;03m# defunned version which is guaranteed to never create variables.\u001b[39;00m\n\u001b[0;32m--> 926\u001b[0m   \u001b[38;5;28;01mreturn\u001b[39;00m \u001b[38;5;28;43mself\u001b[39;49m\u001b[38;5;241;43m.\u001b[39;49m\u001b[43m_no_variable_creation_fn\u001b[49m\u001b[43m(\u001b[49m\u001b[38;5;241;43m*\u001b[39;49m\u001b[43margs\u001b[49m\u001b[43m,\u001b[49m\u001b[43m \u001b[49m\u001b[38;5;241;43m*\u001b[39;49m\u001b[38;5;241;43m*\u001b[39;49m\u001b[43mkwds\u001b[49m\u001b[43m)\u001b[49m  \u001b[38;5;66;03m# pylint: disable=not-callable\u001b[39;00m\n\u001b[1;32m    927\u001b[0m \u001b[38;5;28;01melif\u001b[39;00m \u001b[38;5;28mself\u001b[39m\u001b[38;5;241m.\u001b[39m_variable_creation_fn \u001b[38;5;129;01mis\u001b[39;00m \u001b[38;5;129;01mnot\u001b[39;00m \u001b[38;5;28;01mNone\u001b[39;00m:\n\u001b[1;32m    928\u001b[0m   \u001b[38;5;66;03m# Release the lock early so that multiple threads can perform the call\u001b[39;00m\n\u001b[1;32m    929\u001b[0m   \u001b[38;5;66;03m# in parallel.\u001b[39;00m\n\u001b[1;32m    930\u001b[0m   \u001b[38;5;28mself\u001b[39m\u001b[38;5;241m.\u001b[39m_lock\u001b[38;5;241m.\u001b[39mrelease()\n",
      "File \u001b[0;32m~/.conda/envs/MOOenv/lib/python3.9/site-packages/tensorflow/python/eager/polymorphic_function/tracing_compiler.py:143\u001b[0m, in \u001b[0;36mTracingCompiler.__call__\u001b[0;34m(self, *args, **kwargs)\u001b[0m\n\u001b[1;32m    140\u001b[0m \u001b[38;5;28;01mwith\u001b[39;00m \u001b[38;5;28mself\u001b[39m\u001b[38;5;241m.\u001b[39m_lock:\n\u001b[1;32m    141\u001b[0m   (concrete_function,\n\u001b[1;32m    142\u001b[0m    filtered_flat_args) \u001b[38;5;241m=\u001b[39m \u001b[38;5;28mself\u001b[39m\u001b[38;5;241m.\u001b[39m_maybe_define_function(args, kwargs)\n\u001b[0;32m--> 143\u001b[0m \u001b[38;5;28;01mreturn\u001b[39;00m \u001b[43mconcrete_function\u001b[49m\u001b[38;5;241;43m.\u001b[39;49m\u001b[43m_call_flat\u001b[49m\u001b[43m(\u001b[49m\n\u001b[1;32m    144\u001b[0m \u001b[43m    \u001b[49m\u001b[43mfiltered_flat_args\u001b[49m\u001b[43m,\u001b[49m\u001b[43m \u001b[49m\u001b[43mcaptured_inputs\u001b[49m\u001b[38;5;241;43m=\u001b[39;49m\u001b[43mconcrete_function\u001b[49m\u001b[38;5;241;43m.\u001b[39;49m\u001b[43mcaptured_inputs\u001b[49m\u001b[43m)\u001b[49m\n",
      "File \u001b[0;32m~/.conda/envs/MOOenv/lib/python3.9/site-packages/tensorflow/python/eager/polymorphic_function/monomorphic_function.py:1757\u001b[0m, in \u001b[0;36mConcreteFunction._call_flat\u001b[0;34m(self, args, captured_inputs, cancellation_manager)\u001b[0m\n\u001b[1;32m   1753\u001b[0m possible_gradient_type \u001b[38;5;241m=\u001b[39m gradients_util\u001b[38;5;241m.\u001b[39mPossibleTapeGradientTypes(args)\n\u001b[1;32m   1754\u001b[0m \u001b[38;5;28;01mif\u001b[39;00m (possible_gradient_type \u001b[38;5;241m==\u001b[39m gradients_util\u001b[38;5;241m.\u001b[39mPOSSIBLE_GRADIENT_TYPES_NONE\n\u001b[1;32m   1755\u001b[0m     \u001b[38;5;129;01mand\u001b[39;00m executing_eagerly):\n\u001b[1;32m   1756\u001b[0m   \u001b[38;5;66;03m# No tape is watching; skip to running the function.\u001b[39;00m\n\u001b[0;32m-> 1757\u001b[0m   \u001b[38;5;28;01mreturn\u001b[39;00m \u001b[38;5;28mself\u001b[39m\u001b[38;5;241m.\u001b[39m_build_call_outputs(\u001b[38;5;28;43mself\u001b[39;49m\u001b[38;5;241;43m.\u001b[39;49m\u001b[43m_inference_function\u001b[49m\u001b[38;5;241;43m.\u001b[39;49m\u001b[43mcall\u001b[49m\u001b[43m(\u001b[49m\n\u001b[1;32m   1758\u001b[0m \u001b[43m      \u001b[49m\u001b[43mctx\u001b[49m\u001b[43m,\u001b[49m\u001b[43m \u001b[49m\u001b[43margs\u001b[49m\u001b[43m,\u001b[49m\u001b[43m \u001b[49m\u001b[43mcancellation_manager\u001b[49m\u001b[38;5;241;43m=\u001b[39;49m\u001b[43mcancellation_manager\u001b[49m\u001b[43m)\u001b[49m)\n\u001b[1;32m   1759\u001b[0m forward_backward \u001b[38;5;241m=\u001b[39m \u001b[38;5;28mself\u001b[39m\u001b[38;5;241m.\u001b[39m_select_forward_and_backward_functions(\n\u001b[1;32m   1760\u001b[0m     args,\n\u001b[1;32m   1761\u001b[0m     possible_gradient_type,\n\u001b[1;32m   1762\u001b[0m     executing_eagerly)\n\u001b[1;32m   1763\u001b[0m forward_function, args_with_tangents \u001b[38;5;241m=\u001b[39m forward_backward\u001b[38;5;241m.\u001b[39mforward()\n",
      "File \u001b[0;32m~/.conda/envs/MOOenv/lib/python3.9/site-packages/tensorflow/python/eager/polymorphic_function/monomorphic_function.py:381\u001b[0m, in \u001b[0;36m_EagerDefinedFunction.call\u001b[0;34m(self, ctx, args, cancellation_manager)\u001b[0m\n\u001b[1;32m    379\u001b[0m \u001b[38;5;28;01mwith\u001b[39;00m _InterpolateFunctionError(\u001b[38;5;28mself\u001b[39m):\n\u001b[1;32m    380\u001b[0m   \u001b[38;5;28;01mif\u001b[39;00m cancellation_manager \u001b[38;5;129;01mis\u001b[39;00m \u001b[38;5;28;01mNone\u001b[39;00m:\n\u001b[0;32m--> 381\u001b[0m     outputs \u001b[38;5;241m=\u001b[39m \u001b[43mexecute\u001b[49m\u001b[38;5;241;43m.\u001b[39;49m\u001b[43mexecute\u001b[49m\u001b[43m(\u001b[49m\n\u001b[1;32m    382\u001b[0m \u001b[43m        \u001b[49m\u001b[38;5;28;43mstr\u001b[39;49m\u001b[43m(\u001b[49m\u001b[38;5;28;43mself\u001b[39;49m\u001b[38;5;241;43m.\u001b[39;49m\u001b[43msignature\u001b[49m\u001b[38;5;241;43m.\u001b[39;49m\u001b[43mname\u001b[49m\u001b[43m)\u001b[49m\u001b[43m,\u001b[49m\n\u001b[1;32m    383\u001b[0m \u001b[43m        \u001b[49m\u001b[43mnum_outputs\u001b[49m\u001b[38;5;241;43m=\u001b[39;49m\u001b[38;5;28;43mself\u001b[39;49m\u001b[38;5;241;43m.\u001b[39;49m\u001b[43m_num_outputs\u001b[49m\u001b[43m,\u001b[49m\n\u001b[1;32m    384\u001b[0m \u001b[43m        \u001b[49m\u001b[43minputs\u001b[49m\u001b[38;5;241;43m=\u001b[39;49m\u001b[43margs\u001b[49m\u001b[43m,\u001b[49m\n\u001b[1;32m    385\u001b[0m \u001b[43m        \u001b[49m\u001b[43mattrs\u001b[49m\u001b[38;5;241;43m=\u001b[39;49m\u001b[43mattrs\u001b[49m\u001b[43m,\u001b[49m\n\u001b[1;32m    386\u001b[0m \u001b[43m        \u001b[49m\u001b[43mctx\u001b[49m\u001b[38;5;241;43m=\u001b[39;49m\u001b[43mctx\u001b[49m\u001b[43m)\u001b[49m\n\u001b[1;32m    387\u001b[0m   \u001b[38;5;28;01melse\u001b[39;00m:\n\u001b[1;32m    388\u001b[0m     outputs \u001b[38;5;241m=\u001b[39m execute\u001b[38;5;241m.\u001b[39mexecute_with_cancellation(\n\u001b[1;32m    389\u001b[0m         \u001b[38;5;28mstr\u001b[39m(\u001b[38;5;28mself\u001b[39m\u001b[38;5;241m.\u001b[39msignature\u001b[38;5;241m.\u001b[39mname),\n\u001b[1;32m    390\u001b[0m         num_outputs\u001b[38;5;241m=\u001b[39m\u001b[38;5;28mself\u001b[39m\u001b[38;5;241m.\u001b[39m_num_outputs,\n\u001b[0;32m   (...)\u001b[0m\n\u001b[1;32m    393\u001b[0m         ctx\u001b[38;5;241m=\u001b[39mctx,\n\u001b[1;32m    394\u001b[0m         cancellation_manager\u001b[38;5;241m=\u001b[39mcancellation_manager)\n",
      "File \u001b[0;32m~/.conda/envs/MOOenv/lib/python3.9/site-packages/tensorflow/python/eager/execute.py:52\u001b[0m, in \u001b[0;36mquick_execute\u001b[0;34m(op_name, num_outputs, inputs, attrs, ctx, name)\u001b[0m\n\u001b[1;32m     50\u001b[0m \u001b[38;5;28;01mtry\u001b[39;00m:\n\u001b[1;32m     51\u001b[0m   ctx\u001b[38;5;241m.\u001b[39mensure_initialized()\n\u001b[0;32m---> 52\u001b[0m   tensors \u001b[38;5;241m=\u001b[39m \u001b[43mpywrap_tfe\u001b[49m\u001b[38;5;241;43m.\u001b[39;49m\u001b[43mTFE_Py_Execute\u001b[49m\u001b[43m(\u001b[49m\u001b[43mctx\u001b[49m\u001b[38;5;241;43m.\u001b[39;49m\u001b[43m_handle\u001b[49m\u001b[43m,\u001b[49m\u001b[43m \u001b[49m\u001b[43mdevice_name\u001b[49m\u001b[43m,\u001b[49m\u001b[43m \u001b[49m\u001b[43mop_name\u001b[49m\u001b[43m,\u001b[49m\n\u001b[1;32m     53\u001b[0m \u001b[43m                                      \u001b[49m\u001b[43minputs\u001b[49m\u001b[43m,\u001b[49m\u001b[43m \u001b[49m\u001b[43mattrs\u001b[49m\u001b[43m,\u001b[49m\u001b[43m \u001b[49m\u001b[43mnum_outputs\u001b[49m\u001b[43m)\u001b[49m\n\u001b[1;32m     54\u001b[0m \u001b[38;5;28;01mexcept\u001b[39;00m core\u001b[38;5;241m.\u001b[39m_NotOkStatusException \u001b[38;5;28;01mas\u001b[39;00m e:\n\u001b[1;32m     55\u001b[0m   \u001b[38;5;28;01mif\u001b[39;00m name \u001b[38;5;129;01mis\u001b[39;00m \u001b[38;5;129;01mnot\u001b[39;00m \u001b[38;5;28;01mNone\u001b[39;00m:\n",
      "\u001b[0;31mKeyboardInterrupt\u001b[0m: "
     ]
    }
   ],
   "source": [
    "savename = \"MOONNHeart\"\n",
    "\n",
    "### GPs Initialization\n",
    "GP = GaussianProcess(O, C, d, lowerBounds, upperBounds, noise_variance=2e-6)\n",
    "\n",
    "#### Initial samples, at least 1\n",
    "for l in range(initial_iter):\n",
    "    ## Get random evaluation point\n",
    "    while True:\n",
    "        x_rand = np.random.uniform(lowerBounds[0], upperBounds[0], d)\n",
    "        if GP.X is None or not x_rand in GP.X:\n",
    "            break\n",
    "    ## EVALUATION OF THE OUTSIDE FUNCTION\n",
    "    \n",
    "    y_rand = evaluation(x_rand)\n",
    "    GP.X = np.array([x_rand], dtype=float)\n",
    "    GP.Y = np.array([y_rand], dtype=float)\n",
    "\n",
    "GP.updateGP()\n",
    "GP.optimizeKernel()\n",
    "\n",
    "print(GP.X)\n",
    "if False:\n",
    "    GP.plotSamples()\n",
    "\n",
    "for l in range(total_iter):\n",
    "\n",
    "    ## For all acq functions but usemo\n",
    "    #x_best, acq_best = mes_acq(GP)\n",
    "    ## For usemo\n",
    "    x_best, acq_best = usemo_acq(GP, function = \"ei\", showplots = False)\n",
    "\n",
    "    ## EVALUATION OF THE OUTSIDE FUNCTION\n",
    "    y_best = evaluation(x_best)\n",
    "\n",
    "    ## UPDATE\n",
    "    GP.addSample(x_best,y_best)     ## Add new sample to the model\n",
    "    GP.updateGP()                   ## Update data on the GP regressor\n",
    "    GP.optimizeKernel()             ## Optimize kernel hyperparameters\n",
    "\n",
    "    print(\"Iteration=\", l, \" x_best=\", x_best, \"y=\", y_best)\n",
    "    GP.plot()\n",
    "    "
   ]
  },
  {
   "cell_type": "markdown",
   "metadata": {},
   "source": [
    "## Evaluate results\n",
    "\n",
    "As you are doing a real world experiment you do not have access to the real pareto front, then you fo noy hsbr yhr metrics as before (I removed them).\n",
    "\n",
    "What you should evaluate is the results in terms of the best *y* possible. You have the data below, but you may do a pandas dataframe to store it cleaner when it is computed in the previous section.\n",
    "\n",
    "GP.X === samples where the function was evaluated\n",
    "\n",
    "GP.Y === results of those evaluations"
   ]
  },
  {
   "cell_type": "code",
   "execution_count": 11,
   "metadata": {},
   "outputs": [
    {
     "data": {
      "text/plain": [
       "<matplotlib.collections.PathCollection at 0x7f7d528e35e0>"
      ]
     },
     "execution_count": 11,
     "metadata": {},
     "output_type": "execute_result"
    },
    {
     "data": {
      "image/png": "[encoded data removed]",
      "text/plain": [
       "<Figure size 640x480 with 1 Axes>"
      ]
     },
     "metadata": {},
     "output_type": "display_data"
    }
   ],
   "source": [
    "plt.scatter(-GP.Y[:,0],-GP.Y[:,1])"
   ]
  },
  {
   "cell_type": "code",
   "execution_count": null,
   "metadata": {},
   "outputs": [],
   "source": [
    "from utils.calc_pareto import get_pareto_undominated_by\n",
    "\n",
    "front = get_pareto_undominated_by(-GP.Y)\n",
    "\n",
    "plt.scatter(front[:,0],front[:,1])"
   ]
  },
  {
   "cell_type": "code",
   "execution_count": 12,
   "metadata": {},
   "outputs": [
    {
     "data": {
      "text/plain": [
       "array([[0.72924335, 0.82891678],\n",
       "       [0.69279886, 0.90794979],\n",
       "       [0.76923077, 0.70664807],\n",
       "       [0.70415739, 0.88191539],\n",
       "       [0.70192671, 0.86378429],\n",
       "       [0.70303254, 0.88377499],\n",
       "       [0.7054846 , 0.87308229],\n",
       "       [0.70753998, 0.86378429],\n",
       "       [0.73214286, 0.81961878],\n",
       "       [0.66655618, 0.93491399],\n",
       "       [0.77270447, 0.71594607],\n",
       "       [0.74255692, 0.78847048],\n",
       "       [0.77073673, 0.69549047],\n",
       "       [0.71115385, 0.85960019],\n",
       "       [0.73851438, 0.79962808],\n",
       "       [0.76267057, 0.72756857],\n",
       "       [0.70327191, 0.86936309],\n",
       "       [0.72996142, 0.79172478],\n",
       "       [0.71445498, 0.84100418],\n",
       "       [0.73484848, 0.81171548],\n",
       "       [0.76873449, 0.72013017],\n",
       "       [0.71921569, 0.85262669],\n",
       "       [0.73076923, 0.83031148],\n",
       "       [0.69967117, 0.89028359],\n",
       "       [0.70646766, 0.85820549],\n",
       "       [0.72105887, 0.84844258],\n",
       "       [0.74699332, 0.77963738],\n",
       "       [0.69208633, 0.89446769],\n",
       "       [0.7468638 , 0.77498838],\n",
       "       [0.70887036, 0.86936309],\n",
       "       [0.65692008, 0.94002789],\n",
       "       [0.75080906, 0.75499768],\n",
       "       [0.73172757, 0.81915388],\n",
       "       [0.81661677, 0.50720595],\n",
       "       [0.7234894 , 0.84053928],\n",
       "       [0.65152   , 0.94653649],\n",
       "       [0.71734815, 0.84007438],\n",
       "       [0.70529061, 0.88005579],\n",
       "       [0.70144284, 0.88145049],\n",
       "       [0.69554094, 0.88470479],\n",
       "       [0.64892269, 0.9521153 ]])"
      ]
     },
     "execution_count": 12,
     "metadata": {},
     "output_type": "execute_result"
    }
   ],
   "source": [
    "-GP.Y"
   ]
  },
  {
   "cell_type": "code",
   "execution_count": null,
   "metadata": {
    "collapsed": true
   },
   "outputs": [],
   "source": [
    "x_front = [GP.X[(-GP.Y).tolist().index(y)] for y in front.tolist()]"
   ]
  },
  {
   "cell_type": "code",
   "execution_count": null,
   "metadata": {
    "collapsed": true
   },
   "outputs": [],
   "source": []
  },
  {
   "cell_type": "code",
   "execution_count": null,
   "metadata": {
    "scrolled": true
   },
   "outputs": [],
   "source": [
    "from sklearn.model_selection import train_test_split\n",
    "from sklearn.metrics import precision_score, recall_score\n",
    "\n",
    "front_test = []\n",
    "\n",
    "data = pd.read_csv(\"heart_disease_health_indicators_BRFSS2015.csv\")\n",
    "X = data.drop(\"HeartDiseaseorAttack\", axis=1)\n",
    "y = data[\"HeartDiseaseorAttack\"]\n",
    "\n",
    "y_1 = y[y == 1]\n",
    "y_used = pd.concat([y_1, y[y == 0].sample(len(y_1))])\n",
    "X_used = X.iloc[y_used.index]\n",
    "\n",
    "X_train_val, X_test, y_train_val, y_test = train_test_split(X_used, y_used, test_size=0.1, random_state=42, stratify=y_used)\n",
    "X_train, X_val, y_train, y_val = train_test_split(X_train_val, y_train_val, test_size=0.1, random_state=42, stratify=y_train_val)\n",
    "\n",
    "checkpoint_path = f\"./Checkpoints\"\n",
    "checkpoint_dir = [f for f in os.listdir(checkpoint_path) if os.path.isfile(os.path.join(checkpoint_path, f)) and f.split(\".\")[-1]==\"h5\"]\n",
    "\n",
    "\n",
    "for path in checkpoint_dir:\n",
    "    print(path.split(\".\")[0].split(\"/\")[-1].split(\"_\")[-2:])\n",
    "    arch = [int(x) for x in path.split(\".\")[0].split(\"/\")[-1].split(\"_\")[-2:]]\n",
    "    model = tf.keras.models.Sequential([\n",
    "      tf.keras.layers.Flatten(input_shape=(21, 1)),\n",
    "      tf.keras.layers.Dense(int(np.around(arch[0])), activation='relu'),\n",
    "      tf.keras.layers.Dense(int(np.around(arch[1])), activation='relu'),\n",
    "      tf.keras.layers.Dense(1, activation='sigmoid')\n",
    "    ])\n",
    "    \n",
    "    \n",
    "\n",
    "    \n",
    "    model.load_weights(path)\n",
    "    \n",
    "    y_pred = np.around(model.predict(X_test))\n",
    "    \n",
    "    front_test.append((precision_score(y_test, y_pred), recall_score(y_test, y_pred)))\n",
    "    "
   ]
  },
  {
   "cell_type": "code",
   "execution_count": null,
   "metadata": {
    "collapsed": true
   },
   "outputs": [],
   "source": [
    "[x[0] for x in front_test]\n",
    "\n",
    "plt.scatter([x[0] for x in front_test], [x[1] for x in front_test])"
   ]
  },
  {
   "cell_type": "code",
   "execution_count": null,
   "metadata": {
    "collapsed": true
   },
   "outputs": [],
   "source": [
    "front_test"
   ]
  },
  {
   "cell_type": "code",
   "execution_count": null,
   "metadata": {
    "collapsed": true,
    "scrolled": true
   },
   "outputs": [],
   "source": [
    "#!rm -rf Checkpoints"
   ]
  },
  {
   "cell_type": "code",
   "execution_count": null,
   "metadata": {
    "collapsed": true
   },
   "outputs": [],
   "source": []
  }
 ],
 "metadata": {
  "interpreter": {
   "hash": "5ff4c3eb246f2b52b7f298535ee10c6d55e8929659d135abbc88f0b5728f4230"
  },
  "kernelspec": {
   "display_name": "MOOvenv",
   "language": "python",
   "name": "moovenv"
  },
  "language_info": {
   "codemirror_mode": {
    "name": "ipython",
    "version": 3
   },
   "file_extension": ".py",
   "mimetype": "text/x-python",
   "name": "python",
   "nbconvert_exporter": "python",
   "pygments_lexer": "ipython3",
   "version": "3.9.12"
  }
 },
 "nbformat": 4,
 "nbformat_minor": 2
}
