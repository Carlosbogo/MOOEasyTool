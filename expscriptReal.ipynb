{
 "cells": [
  {
   "cell_type": "markdown",
   "metadata": {},
   "source": [
    "# Real Experiment of CIFAR10 Classification with a MLP\n",
    "\n",
    "File to perform experiments"
   ]
  },
  {
   "cell_type": "markdown",
   "metadata": {},
   "source": [
    "## Imports"
   ]
  },
  {
   "cell_type": "code",
   "execution_count": null,
   "metadata": {},
   "outputs": [],
   "source": [
    "import os\n",
    "import numpy as np\n",
    "import gpflow\n",
    "import matplotlib.pyplot as plt\n",
    "import pandas as pd\n",
    "import time\n",
    "from tqdm import tqdm\n",
    "\n",
    "from models.GaussianProcess import GaussianProcess\n",
    "from acquisition_functions.MES import mes_acq, basic_mes_acq\n",
    "from acquisition_functions.PESMO import pesmo_acq\n",
    "from acquisition_functions.MESMO import mesmo_acq\n",
    "from arguments.arguments import MainArguments\n",
    "\n",
    "from MOObenchmark import MOOackley, MOOexponential_ackley, MOOexponential\n",
    "from MOO_MLPfunction import evalMLPCIFAR2\n",
    "from utils.calc_pareto import get_pareto_undominated_by, getSetfromFront\n",
    "\n",
    "from models.MOOEvaluationProblem import MOOEvaluationProblem\n",
    "\n",
    "from pymoo.algorithms.moo.nsga2 import NSGA2\n",
    "from pymoo.factory import get_termination\n",
    "from pymoo.optimize import minimize"
   ]
  },
  {
   "cell_type": "markdown",
   "metadata": {},
   "source": [
    "## Algorithm Arguments"
   ]
  },
  {
   "cell_type": "code",
   "execution_count": null,
   "metadata": {},
   "outputs": [],
   "source": [
    "d = 2\n",
    "    \n",
    "seed = 0\n",
    "np.random.seed(seed)\n",
    "\n",
    "total_iter = 2\n",
    "initial_iter = 1\n",
    "\n",
    "lower_bound = -6\n",
    "upper_bound = 0\n",
    "\n",
    "lowerBounds = [lower_bound]*d\n",
    "upperBounds = [upper_bound]*d\n"
   ]
  },
  {
   "cell_type": "markdown",
   "metadata": {},
   "source": [
    "## Evaluation"
   ]
  },
  {
   "cell_type": "code",
   "execution_count": null,
   "metadata": {},
   "outputs": [],
   "source": [
    "def random_acq(GP: GaussianProcess, **kwargs):\n",
    "    while True:\n",
    "        x_rand = np.random.uniform(GP.lowerBounds, GP.upperBounds, GP.d)\n",
    "        if GP.X is None or not x_rand in GP.X:\n",
    "            break\n",
    "    return x_rand, 0"
   ]
  },
  {
   "cell_type": "markdown",
   "metadata": {},
   "source": [
    "## N experiments"
   ]
  },
  {
   "cell_type": "code",
   "execution_count": null,
   "metadata": {},
   "outputs": [],
   "source": [
    "df = None\n",
    "n_experiments = 1\n",
    "folder = \"./MLPCIFAR2/\"\n",
    "savename = \"basic_mes\"\n",
    "\n",
    "i = 0\n",
    "\n",
    "def evaluation(x):\n",
    "    return evalMLPCIFAR2(x)\n",
    "\n",
    "O = 2\n",
    "C = 0\n",
    "\n",
    "while i<n_experiments:\n",
    "    print(i, time.ctime())\n",
    "    \n",
    "\n",
    "   \n",
    "    # try:\n",
    "    ### GPs Initialization\n",
    "    GP = GaussianProcess(O, C, d, lowerBounds, upperBounds, noise_variance=2e-6)\n",
    "\n",
    "    #### Initial samples, at least 1\n",
    "    for l in range(initial_iter):\n",
    "        ## Get random evaluation point\n",
    "        while True:\n",
    "            x_rand = np.random.uniform(lowerBounds[0], upperBounds[0], d)\n",
    "            if GP.X is None or not x_rand in GP.X:\n",
    "                break\n",
    "        ## EVALUATION OF THE OUTSIDE FUNCTION\n",
    "        y_rand = evaluation(x_rand)\n",
    "        GP.addSample(x_rand,y_rand)\n",
    "\n",
    "    GP.updateGP()\n",
    "    GP.optimizeKernel()\n",
    "\n",
    "    d_ek, dm_ek = GP.evaluateNoRealPareto(showparetos=True)\n",
    "    row = {\n",
    "        'exp_id'   : i,\n",
    "        'savename' : savename,\n",
    "        'ns'       : len(GP.X),\n",
    "        'x'        : x_rand,\n",
    "        'y'        : y_rand,\n",
    "        'time'     : float(\"NaN\"),\n",
    "        'd_ek'     : d_ek,\n",
    "        'dm_ek'    : dm_ek\n",
    "    }\n",
    "    df_temp = pd.DataFrame({k: [v] for k, v in row.items()})\n",
    "\n",
    "    for l in range(total_iter):\n",
    "\n",
    "        ## Search of the best acquisition function\n",
    "        start = time.time()\n",
    "        x_best, acq_best = basic_mes_acq(GP)\n",
    "        end = time.time()\n",
    "\n",
    "        ## EVALUATION OF THE OUTSIDE FUNCTION\n",
    "        y_best = evaluation(x_best)\n",
    "\n",
    "        ## UPDATE\n",
    "        GP.addSample(x_best,y_best)     ## Add new sample to the model\n",
    "        GP.updateGP()                  ## Update data on the GP regressor\n",
    "        GP.optimizeKernel()             ## Optimize kernel hyperparameters\n",
    "\n",
    "\n",
    "        ## Evaluate Pareto (distances and hypervolumes)\n",
    "        d_ek, dm_ek = GP.evaluateNoRealPareto(showparetos=True)\n",
    "        row = {\n",
    "            'exp_id'   : i,\n",
    "            'savename' : savename,\n",
    "            'ns'       : len(GP.X),\n",
    "            'x'        : x_best,\n",
    "            'y'        : y_best,\n",
    "            'time'     : end-start,\n",
    "            'd_ek'     : d_ek,\n",
    "            'dm_ek'    : dm_ek\n",
    "        }\n",
    "\n",
    "        df_temp = pd.concat([df_temp, pd.DataFrame({k: [v] for k, v in row.items()})])\n",
    "    if df is None:\n",
    "        df = df_temp\n",
    "    else:\n",
    "        df = pd.concat([df, df_temp])\n",
    "    i+=1\n",
    "    # except:\n",
    "    #     print(i, len(GP.X), GP.X, GP.Y)\n",
    "    #     print(\"NON INVERTIBLE MAtRIX\")\n",
    "df.to_csv(folder+savename+\".csv\")"
   ]
  },
  {
   "cell_type": "code",
   "execution_count": null,
   "metadata": {},
   "outputs": [],
   "source": [
    "df"
   ]
  }
 ],
 "metadata": {
  "interpreter": {
   "hash": "5ff4c3eb246f2b52b7f298535ee10c6d55e8929659d135abbc88f0b5728f4230"
  },
  "kernelspec": {
   "display_name": "MOO-venv",
   "language": "python",
   "name": "python3"
  },
  "language_info": {
   "codemirror_mode": {
    "name": "ipython",
    "version": 3
   },
   "file_extension": ".py",
   "mimetype": "text/x-python",
   "name": "python",
   "nbconvert_exporter": "python",
   "pygments_lexer": "ipython3",
   "version": "3.7.3"
  }
 },
 "nbformat": 4,
 "nbformat_minor": 2
}
